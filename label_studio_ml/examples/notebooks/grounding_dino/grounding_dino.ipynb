{
 "cells": [
  {
   "cell_type": "code",
   "execution_count": null,
   "id": "cd843b6e",
   "metadata": {},
   "outputs": [],
   "source": [
    "import sys\n",
    "sys.path.append('../helper')\n",
    "from ls_helper import *"
   ]
  },
  {
   "cell_type": "code",
   "execution_count": null,
   "id": "11911c09",
   "metadata": {},
   "outputs": [],
   "source": [
    "from label_studio_sdk.label_interface import LabelInterface\n",
    "from label_studio_sdk.label_interface.create import labels\n",
    "from label_studio_sdk.actions import ActionsCreateRequestSelectedItemsExcluded\n",
    "from dotenv import load_dotenv\n",
    "import os\n",
    "import logging"
   ]
  },
  {
   "cell_type": "code",
   "execution_count": null,
   "id": "06b8b327",
   "metadata": {},
   "outputs": [],
   "source": [
    "load_dotenv()"
   ]
  },
  {
   "cell_type": "code",
   "execution_count": null,
   "id": "f8d26eae",
   "metadata": {},
   "outputs": [],
   "source": [
    "logging.basicConfig(level=logging.INFO)"
   ]
  },
  {
   "cell_type": "code",
   "execution_count": null,
   "id": "44711a47",
   "metadata": {},
   "outputs": [],
   "source": [
    "PROJECT_NAME=os.getenv('PROJECT_NAME', 'GROUNDING_DINO')\n",
    "RECREATE_PROJECT = int(os.getenv('RECREATE_PROJECT', '0'))"
   ]
  },
  {
   "cell_type": "code",
   "execution_count": null,
   "id": "514035ac-c55b-4e35-8c4f-cb96f5098278",
   "metadata": {},
   "outputs": [],
   "source": [
    "logging.info('Setting up required variable values')\n",
    "\n",
    "# Define the URL where Label Studio is accessible and the API key for your user account\n",
    "LABEL_STUDIO_URL = os.getenv('LABEL_STUDIO_URL', 'http://localhost:8080')\n",
    "LABEL_STUDIO_ML_BACKEND_URL = os.getenv('LABEL_STUDIO_ML_BACKEND_URL', 'http://localhost:9090')\n",
    "\n",
    "# API key is available at the Account & Settings > Access Tokens page in Label Studio UI\n",
    "API_KEY = os.getenv('API_KEY')\n",
    "\n",
    "# Import the SDK and the client module\n",
    "from label_studio_sdk.client import LabelStudio\n",
    "\n",
    "# Connect to the Label Studio API and check the connection\n",
    "ls = LabelStudio(base_url=LABEL_STUDIO_URL, api_key=API_KEY)"
   ]
  },
  {
   "cell_type": "code",
   "execution_count": null,
   "id": "1ff91daf",
   "metadata": {},
   "outputs": [],
   "source": [
    "\n",
    "# Create a project with the specified title and labeling configuration\n",
    "project = get_or_create_project(ls, PROJECT_NAME, \n",
    "                                \"\"\"\n",
    "                                <View>\n",
    "                                    <Style>\n",
    "                                    .lsf-main-content.lsf-requesting .prompt::before { content: ' loading...'; color: #808080; }\n",
    "                                    </Style>\n",
    "                                    <View className=\"prompt\">\n",
    "                                        <Header value=\"Enter a prompt to detect objects in the image:\"/>\n",
    "                                    <TextArea name=\"prompt\" toName=\"image\" editable=\"true\" rows=\"2\" maxSubmissions=\"1\" showSubmitButton=\"true\"/>\n",
    "                                    </View>\n",
    "                                    <Image name=\"image\" value=\"$image\"/>\n",
    "                                \n",
    "                                    <RectangleLabels name=\"label\" toName=\"image\">\n",
    "                                        <Label value=\"cats\" background=\"yellow\"/>\n",
    "                                        <Label value=\"house\" background=\"blue\"/>\n",
    "                                    </RectangleLabels>\n",
    "                                </View>\n",
    "                                \"\"\", \n",
    "                                RECREATE_PROJECT\n",
    "                                )"
   ]
  },
  {
   "cell_type": "code",
   "execution_count": null,
   "id": "793b1d7e",
   "metadata": {},
   "outputs": [],
   "source": [
    "logging.info('Project:' + str(project))"
   ]
  },
  {
   "cell_type": "code",
   "execution_count": null,
   "id": "aa9119a7-59a7-4cfc-8916-da75da470186",
   "metadata": {},
   "outputs": [],
   "source": [
    "# Import sample images\n",
    "if RECREATE_PROJECT:\n",
    "    ls.projects.import_tasks(\n",
    "        project.id,\n",
    "        request=[{'image': f'https://data.heartex.net/open-images/train_0/mini/0045dd96bf73936c.jpg'},\n",
    "                {'image': f'https://data.heartex.net/open-images/train_0/mini/0083d02f6ad18b38.jpg'}]\n",
    "    )"
   ]
  },
  {
   "cell_type": "code",
   "execution_count": null,
   "id": "194e52f9",
   "metadata": {},
   "outputs": [],
   "source": [
    "# Create a ML Backend\n",
    "logging.info('Creating Grounding Dino ML Backend')\n",
    "grounding_dino_model = get_or_create_model(ls,\n",
    "    title='GROUNDING-DINO',\n",
    "    description='A Grounding Dino model not needing GPU',\n",
    "    url=LABEL_STUDIO_ML_BACKEND_URL,\n",
    "    project_id=project.id,\n",
    "    is_interactive=True\n",
    ")"
   ]
  },
  {
   "cell_type": "code",
   "execution_count": null,
   "id": "910df3c2",
   "metadata": {},
   "outputs": [],
   "source": [
    "# Retrieve predictions\n",
    "logging.info('Logging the tasks')\n",
    "for task in ls.tasks.list(project=project.id):\n",
    "    logging.info('Predicting Task: ' + str(task))\n",
    "    ls.ml.predict_interactive(\n",
    "        id=grounding_dino_model.id, \n",
    "        task=task.id, \n",
    "        context={'result': [{'value': {'text': ['animal']},\n",
    "             'from_name': 'prompt',\n",
    "             'to_name': 'image',\n",
    "             'type': 'textarea',\n",
    "             'origin': 'manual'}]}\n",
    "    )"
   ]
  }
 ],
 "metadata": {
  "kernelspec": {
   "display_name": "Python 3 (ipykernel)",
   "language": "python",
   "name": "python3"
  },
  "language_info": {
   "codemirror_mode": {
    "name": "ipython",
    "version": 3
   },
   "file_extension": ".py",
   "mimetype": "text/x-python",
   "name": "python",
   "nbconvert_exporter": "python",
   "pygments_lexer": "ipython3",
   "version": "3.12.6"
  }
 },
 "nbformat": 4,
 "nbformat_minor": 5
}

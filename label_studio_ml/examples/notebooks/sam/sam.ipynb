{
 "cells": [
  {
   "cell_type": "code",
   "execution_count": null,
   "id": "cd843b6e",
   "metadata": {},
   "outputs": [],
   "source": [
    "import sys\n",
    "sys.path.append('../helper')\n",
    "from ls_helper import *"
   ]
  },
  {
   "cell_type": "code",
   "execution_count": null,
   "id": "11911c09",
   "metadata": {},
   "outputs": [],
   "source": [
    "from label_studio_sdk.label_interface import LabelInterface\n",
    "from label_studio_sdk.label_interface.create import labels\n",
    "from label_studio_sdk.actions import ActionsCreateRequestSelectedItemsExcluded\n",
    "from dotenv import load_dotenv\n",
    "import os\n",
    "import logging"
   ]
  },
  {
   "cell_type": "code",
   "execution_count": null,
   "id": "06b8b327",
   "metadata": {},
   "outputs": [],
   "source": [
    "load_dotenv()"
   ]
  },
  {
   "cell_type": "code",
   "execution_count": null,
   "id": "f8d26eae",
   "metadata": {},
   "outputs": [],
   "source": [
    "logging.basicConfig(level=logging.DEBUG)"
   ]
  },
  {
   "cell_type": "code",
   "execution_count": null,
   "id": "44711a47",
   "metadata": {},
   "outputs": [],
   "source": [
    "SAM_PROJECT_NAME=os.getenv('SAM_PROJECT_NAME', 'SAM-NO-GPU')\n",
    "RECREATE_PROJECT = int(os.getenv('RECREATE_PROJECT', '0'))"
   ]
  },
  {
   "cell_type": "code",
   "execution_count": null,
   "id": "514035ac-c55b-4e35-8c4f-cb96f5098278",
   "metadata": {},
   "outputs": [],
   "source": [
    "logging.info('Setting up required variable values')\n",
    "\n",
    "# Define the URL where Label Studio is accessible and the API key for your user account\n",
    "LABEL_STUDIO_URL = os.getenv('LABEL_STUDIO_URL', 'http://localhost:8080')\n",
    "LABEL_STUDIO_ML_BACKEND_URL = os.getenv('LABEL_STUDIO_ML_BACKEND_URL', 'http://localhost:9090')\n",
    "\n",
    "# API key is available at the Account & Settings > Access Tokens page in Label Studio UI\n",
    "API_KEY = os.getenv('API_KEY')\n",
    "\n",
    "# Import the SDK and the client module\n",
    "from label_studio_sdk.client import LabelStudio\n",
    "\n",
    "# Connect to the Label Studio API and check the connection\n",
    "ls = LabelStudio(base_url=LABEL_STUDIO_URL, api_key=API_KEY)"
   ]
  },
  {
   "cell_type": "code",
   "execution_count": null,
   "id": "1ff91daf",
   "metadata": {},
   "outputs": [],
   "source": [
    "\n",
    "# Create a project with the specified title and labeling configuration\n",
    "project = get_or_create_project(ls, SAM_PROJECT_NAME, \n",
    "                                \"\"\"\n",
    "                                <View>\n",
    "                                <Image name=\"image\" value=\"$image\" zoom=\"true\"/>\n",
    "                                <Header value=\"Rectangle Tagging\" />\n",
    "                                <RectangleLabels name=\"tag3\" toName=\"image\" smart=\"true\">\n",
    "                                    <Label value=\"Cat\" background=\"#000000\" showInline=\"true\"/>\n",
    "                                    <Label value=\"Dog\" background=\"#000000\" showInline=\"true\"/>\n",
    "                                </RectangleLabels>\n",
    "                                <Header value=\"Brush Tagging\" />\n",
    "                                <BrushLabels name=\"tag\" toName=\"image\">\n",
    "                                    <Label value=\"Cat\" background=\"#FF0000\"/>\n",
    "                                    <Label value=\"Dog\" background=\"#0d14d3\"/>\n",
    "                                </BrushLabels>\n",
    "                                <Header value=\"KeyPoint Tagging\" />\n",
    "                                <KeyPointLabels name=\"tag2\" toName=\"image\" smart=\"true\">\n",
    "                                    <Label value=\"Cat\" smart=\"true\" background=\"#000000\" showInline=\"true\"/>\n",
    "                                    <Label value=\"Dog\" smart=\"true\" background=\"#000000\" showInline=\"true\"/>\n",
    "                                </KeyPointLabels>\n",
    "                                </View>\n",
    "                                \"\"\", \n",
    "                                RECREATE_PROJECT\n",
    "                                )"
   ]
  },
  {
   "cell_type": "code",
   "execution_count": null,
   "id": "793b1d7e",
   "metadata": {},
   "outputs": [],
   "source": [
    "logging.info('Project:' + str(project))"
   ]
  },
  {
   "cell_type": "code",
   "execution_count": null,
   "id": "aa9119a7-59a7-4cfc-8916-da75da470186",
   "metadata": {},
   "outputs": [],
   "source": [
    "# Import sample images\n",
    "if RECREATE_PROJECT:\n",
    "    ls.projects.import_tasks(\n",
    "        project.id,\n",
    "        request=[{'image': f'https://data.heartex.net/open-images/train_0/mini/0045dd96bf73936c.jpg'},\n",
    "                {'image': f'https://data.heartex.net/open-images/train_0/mini/0083d02f6ad18b38.jpg'}]\n",
    "    )"
   ]
  },
  {
   "cell_type": "code",
   "execution_count": null,
   "id": "194e52f9",
   "metadata": {},
   "outputs": [],
   "source": [
    "# Create a ML Backend\n",
    "logging.info('Creating SAM ML Backend')\n",
    "sam_model = get_or_create_model(ls,\n",
    "    title='SAM',\n",
    "    description='A SAM model not needing GPU',\n",
    "    url=LABEL_STUDIO_ML_BACKEND_URL,\n",
    "    project_id=project.id,\n",
    "    is_interactive=True\n",
    ")"
   ]
  },
  {
   "cell_type": "code",
   "execution_count": null,
   "id": "910df3c2",
   "metadata": {},
   "outputs": [],
   "source": [
    "# Retrieve predictions\n",
    "logging.info('Logging the tasks')\n",
    "for task in ls.tasks.list(project=project.id):\n",
    "    logging.info(task)\n",
    "    ls.ml.predict_interactive(id=sam_model.id, task=task.id)"
   ]
  }
 ],
 "metadata": {
  "kernelspec": {
   "display_name": "Python 3",
   "language": "python",
   "name": "python3"
  },
  "language_info": {
   "codemirror_mode": {
    "name": "ipython",
    "version": 3
   },
   "file_extension": ".py",
   "mimetype": "text/x-python",
   "name": "python",
   "nbconvert_exporter": "python",
   "pygments_lexer": "ipython3",
   "version": "3.12.7"
  }
 },
 "nbformat": 4,
 "nbformat_minor": 5
}

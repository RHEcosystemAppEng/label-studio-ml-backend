{
 "cells": [
  {
   "cell_type": "code",
   "execution_count": null,
   "id": "dbf1d1c4",
   "metadata": {},
   "outputs": [],
   "source": [
    "import sys\n",
    "sys.path.append('../helper')\n",
    "from ls_helper import *"
   ]
  },
  {
   "cell_type": "code",
   "execution_count": null,
   "id": "0064c194",
   "metadata": {},
   "outputs": [],
   "source": [
    "from label_studio_sdk.label_interface import LabelInterface\n",
    "from label_studio_sdk.label_interface.create import labels\n",
    "from label_studio_sdk.actions import ActionsCreateRequestSelectedItemsExcluded\n",
    "from dotenv import load_dotenv\n",
    "import os\n",
    "import logging"
   ]
  },
  {
   "cell_type": "code",
   "execution_count": null,
   "id": "72a06980",
   "metadata": {},
   "outputs": [],
   "source": [
    "load_dotenv()"
   ]
  },
  {
   "cell_type": "code",
   "execution_count": null,
   "id": "65d2818d",
   "metadata": {},
   "outputs": [],
   "source": [
    "logging.basicConfig( level=logging.DEBUG)"
   ]
  },
  {
   "cell_type": "code",
   "execution_count": null,
   "id": "514035ac-c55b-4e35-8c4f-cb96f5098278",
   "metadata": {},
   "outputs": [],
   "source": [
    "logging.info('Setting up required variable values')\n",
    "\n",
    "# Define the URL where Label Studio is accessible and the API key for your user account\n",
    "LABEL_STUDIO_URL = os.getenv('LABEL_STUDIO_URL', 'http://localhost:8080')\n",
    "LABEL_STUDIO_ML_BACKEND_URL = os.getenv('LABEL_STUDIO_ML_BACKEND_URL', 'http://localhost:9090')\n",
    "\n",
    "# API key is available at the Account & Settings > Access Tokens page in Label Studio UI\n",
    "API_KEY = os.getenv('API_KEY')\n",
    "\n",
    "# Import the SDK and the client module\n",
    "from label_studio_sdk.client import LabelStudio\n",
    "\n",
    "# Connect to the Label Studio API and check the connection\n",
    "ls = LabelStudio(base_url=LABEL_STUDIO_URL, api_key=API_KEY)"
   ]
  },
  {
   "cell_type": "code",
   "execution_count": null,
   "id": "f4f99328-2387-4e50-9fb6-3e50376141d7",
   "metadata": {},
   "outputs": [],
   "source": [
    "FLAIR_PROJECT_NAME = os.getenv('FLAIR_PROJECT_NAME', 'test-flair-ner')\n",
    "RECREATE_PROJECT = int(os.getenv('RECREATE_PROJECT', '0'))\n",
    "LOAD_TASKS_FROM_LOCAL_FILE = int(os.getenv('LOAD_TASKS_FROM_LOCAL_FILE', '0'))\n",
    "LOCAL_TASKS_FILE='sample_data/flair_ner.txt'\n",
    "\n",
    "# Define labeling interface\n",
    "label_config = LabelInterface.create({\n",
    "    'text': 'Text',\n",
    "    'label': labels(['PER', 'ORG', 'LOC', 'MISC'])\n",
    "})"
   ]
  },
  {
   "cell_type": "code",
   "execution_count": null,
   "id": "5efa1aaa",
   "metadata": {},
   "outputs": [],
   "source": [
    "logging.info('Creating project')\n",
    "# Create a project with the specified title and labeling configuration\n",
    "project = get_or_create_project(ls, FLAIR_PROJECT_NAME, label_config, RECREATE_PROJECT)\n",
    "logging.info('Project:' + str(project))"
   ]
  },
  {
   "cell_type": "code",
   "execution_count": null,
   "id": "6c45ad4e",
   "metadata": {},
   "outputs": [],
   "source": [
    "if RECREATE_PROJECT:\n",
    "    if LOAD_TASKS_FROM_LOCAL_FILE:\n",
    "        logging.info('Attempting to load tasks from file')\n",
    "        with open(LOCAL_TASKS_FILE, 'r') as file:\n",
    "            for line in file:\n",
    "                ls.projects.import_tasks(\n",
    "                    id=project.id,\n",
    "                    request=[\n",
    "                        {\"text\": line.strip()}\n",
    "                    ]\n",
    "                )\n",
    "    else:\n",
    "        # Create some sample tasks\n",
    "        logging.info('Creating hard-coded sample tasks')\n",
    "        ls.projects.import_tasks(\n",
    "            id=project.id,\n",
    "            request=[\n",
    "                {\"text\": \"Copenhagen Denmark\"},\n",
    "                {\"text\": \"Washington United States\"},\n",
    "                {\"text\": \"Paris France\"},\n",
    "            ]\n",
    "        )"
   ]
  },
  {
   "cell_type": "code",
   "execution_count": null,
   "id": "194e52f9",
   "metadata": {},
   "outputs": [],
   "source": [
    "# Create and connect the ML Backend with the project\n",
    "logging.info('Creating Flair ML backend')\n",
    "flair_model = get_or_create_model(\n",
    "    ls,\n",
    "    title='FLAIR_NER',\n",
    "    description='A model to perform NER using Flair',\n",
    "    url=LABEL_STUDIO_ML_BACKEND_URL,\n",
    "    project_id=project.id,\n",
    "    is_interactive=False\n",
    ")"
   ]
  },
  {
   "cell_type": "code",
   "execution_count": null,
   "id": "6e7110b3",
   "metadata": {},
   "outputs": [],
   "source": [
    "# Create annotations using ML backend for all the imported tasks \n",
    "logging.info('Attempting to get predictions for tasks')\n",
    "ls.actions.create(\n",
    "            id=\"retrieve_tasks_predictions\",\n",
    "            project=project.id,\n",
    "            selected_items=ActionsCreateRequestSelectedItemsExcluded(\n",
    "                all_=True\n",
    "            )\n",
    "        )"
   ]
  },
  {
   "cell_type": "code",
   "execution_count": null,
   "id": "a291fa36",
   "metadata": {},
   "outputs": [],
   "source": [
    "# Verify the annotations predicted by the ML backend and examine confidence score\n",
    "for task in ls.tasks.list(project=project.id):\n",
    "    logging.info(task)"
   ]
  },
  {
   "cell_type": "code",
   "execution_count": null,
   "id": "9baf6ff0",
   "metadata": {},
   "outputs": [],
   "source": [
    "response = export_annotated_data(project.id, LABEL_STUDIO_URL, API_KEY)\n",
    "logging.info(response.json())"
   ]
  },
  {
   "cell_type": "code",
   "execution_count": null,
   "id": "088ee561",
   "metadata": {},
   "outputs": [],
   "source": [
    "logging.info('Exporting to file')\n",
    "export_to_file(str(response.json()))"
   ]
  }
 ],
 "metadata": {
  "kernelspec": {
   "display_name": "Python 3",
   "language": "python",
   "name": "python3"
  },
  "language_info": {
   "codemirror_mode": {
    "name": "ipython",
    "version": 3
   },
   "file_extension": ".py",
   "mimetype": "text/x-python",
   "name": "python",
   "nbconvert_exporter": "python",
   "pygments_lexer": "ipython3",
   "version": "3.12.7"
  }
 },
 "nbformat": 4,
 "nbformat_minor": 5
}

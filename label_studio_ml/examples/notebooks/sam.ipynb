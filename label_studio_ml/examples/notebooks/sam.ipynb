{
 "cells": [
  {
   "cell_type": "code",
   "execution_count": 4,
   "id": "cd843b6e",
   "metadata": {},
   "outputs": [],
   "source": [
    "from ls_helper import *"
   ]
  },
  {
   "cell_type": "code",
   "execution_count": 5,
   "id": "44711a47",
   "metadata": {},
   "outputs": [],
   "source": [
    "SAM_TEST_PROJECT=\"SAM-NO-GPU\"\n",
    "RECREATE_PROJECT = True"
   ]
  },
  {
   "cell_type": "code",
   "execution_count": 6,
   "id": "514035ac-c55b-4e35-8c4f-cb96f5098278",
   "metadata": {},
   "outputs": [],
   "source": [
    "# Define the URL where Label Studio is accessible and the API key for your user account\n",
    "LABEL_STUDIO_URL = 'http://localhost:8080'\n",
    "LABEL_STUDIO_ML_BACKEND_URL = 'http://localhost:9191'\n",
    "\n",
    "# API key is available at the Account & Settings > Access Tokens page in Label Studio UI\n",
    "API_KEY = '3febbb103045e50e96dae2499df316299d73220e'\n",
    "\n",
    "# Import the SDK and the client module\n",
    "from label_studio_sdk.client import LabelStudio\n",
    "\n",
    "# Connect to the Label Studio API and check the connection\n",
    "ls = LabelStudio(base_url=LABEL_STUDIO_URL, api_key=API_KEY)"
   ]
  },
  {
   "cell_type": "code",
   "execution_count": 7,
   "id": "1ff91daf",
   "metadata": {},
   "outputs": [],
   "source": [
    "\n",
    "# Create a project with the specified title and labeling configuration\n",
    "project = get_or_create_project(ls, SAM_TEST_PROJECT, \n",
    "                                \"\"\"\n",
    "                                <View>\n",
    "                                <Image name=\"image\" value=\"$image\" zoom=\"true\"/>\n",
    "                                <Header value=\"Rectangle Tagging\" />\n",
    "                                <RectangleLabels name=\"tag3\" toName=\"image\" smart=\"true\">\n",
    "                                    <Label value=\"Cat\" background=\"#000000\" showInline=\"true\"/>\n",
    "                                    <Label value=\"Dog\" background=\"#000000\" showInline=\"true\"/>\n",
    "                                </RectangleLabels>\n",
    "                                <Header value=\"Brush Tagging\" />\n",
    "                                <BrushLabels name=\"tag\" toName=\"image\">\n",
    "                                    <Label value=\"Cat\" background=\"#FF0000\"/>\n",
    "                                    <Label value=\"Dog\" background=\"#0d14d3\"/>\n",
    "                                </BrushLabels>\n",
    "                                <Header value=\"KeyPoint Tagging\" />\n",
    "                                <KeyPointLabels name=\"tag2\" toName=\"image\" smart=\"true\">\n",
    "                                    <Label value=\"Cat\" smart=\"true\" background=\"#000000\" showInline=\"true\"/>\n",
    "                                    <Label value=\"Dog\" smart=\"true\" background=\"#000000\" showInline=\"true\"/>\n",
    "                                </KeyPointLabels>\n",
    "                                </View>\n",
    "                                \"\"\", \n",
    "                                RECREATE_PROJECT\n",
    "                                )"
   ]
  },
  {
   "cell_type": "code",
   "execution_count": 8,
   "id": "793b1d7e",
   "metadata": {},
   "outputs": [
    {
     "name": "stdout",
     "output_type": "stream",
     "text": [
      "id=55 title='SAM-NO-GPU' description='' label_config='<View>\\n                                <Image name=\"image\" value=\"$image\" zoom=\"true\"/>\\n                                <Header value=\"Rectangle Tagging\" />\\n                                <RectangleLabels name=\"tag3\" toName=\"image\" smart=\"true\">\\n                                    <Label value=\"Cat\" background=\"#000000\" showInline=\"true\"/>\\n                                    <Label value=\"Dog\" background=\"#000000\" showInline=\"true\"/>\\n                                </RectangleLabels>\\n                                <Header value=\"Brush Tagging\" />\\n                                <BrushLabels name=\"tag\" toName=\"image\">\\n                                    <Label value=\"Cat\" background=\"#FF0000\"/>\\n                                    <Label value=\"Dog\" background=\"#0d14d3\"/>\\n                                </BrushLabels>\\n                                <Header value=\"KeyPoint Tagging\" />\\n                                <KeyPointLabels name=\"tag2\" toName=\"image\" smart=\"true\">\\n                                    <Label value=\"Cat\" smart=\"true\" background=\"#000000\" showInline=\"true\"/>\\n                                    <Label value=\"Dog\" smart=\"true\" background=\"#000000\" showInline=\"true\"/>\\n                                </KeyPointLabels>\\n                                </View>' expert_instruction='' show_instruction=False show_skip_button=True enable_empty_annotation=True show_annotation_history=False reveal_preannotations_interactively=False show_collab_predictions=True maximum_annotations=1 color='#FFFFFF' control_weights={'tag3': {'overall': 1.0, 'type': 'RectangleLabels', 'labels': {'Cat': 1.0, 'Dog': 1.0}}, 'tag': {'overall': 1.0, 'type': 'BrushLabels', 'labels': {'Cat': 1.0, 'Dog': 1.0}}, 'tag2': {'overall': 1.0, 'type': 'KeyPointLabels', 'labels': {'Cat': 1.0, 'Dog': 1.0}}} organization=1 is_published=False model_version='' is_draft=False created_by={'id': 2, 'first_name': '', 'last_name': '', 'email': 'abc@gmail.com', 'avatar': None} created_at='2025-03-20T18:38:44.738960Z' min_annotations_to_start_training=0 start_training_on_annotation_update=False num_tasks_with_annotations=None task_number=None useful_annotation_number=None ground_truth_number=None skipped_annotations_number=None total_annotations_number=None total_predictions_number=None sampling='Sequential sampling' show_ground_truth_first=False show_overlap_first=False overlap_cohort_percentage=100 task_data_login=None task_data_password=None parsed_label_config={'tag3': {'type': 'RectangleLabels', 'to_name': ['image'], 'inputs': [{'type': 'Image', 'valueType': None, 'value': 'image'}], 'labels': ['Cat', 'Dog'], 'labels_attrs': {'Cat': {'value': 'Cat', 'background': '#000000', 'showInline': 'true'}, 'Dog': {'value': 'Dog', 'background': '#000000', 'showInline': 'true'}}}, 'tag': {'type': 'BrushLabels', 'to_name': ['image'], 'inputs': [{'type': 'Image', 'valueType': None, 'value': 'image'}], 'labels': ['Cat', 'Dog'], 'labels_attrs': {'Cat': {'value': 'Cat', 'background': '#FF0000'}, 'Dog': {'value': 'Dog', 'background': '#0d14d3'}}}, 'tag2': {'type': 'KeyPointLabels', 'to_name': ['image'], 'inputs': [{'type': 'Image', 'valueType': None, 'value': 'image'}], 'labels': ['Cat', 'Dog'], 'labels_attrs': {'Cat': {'value': 'Cat', 'smart': 'true', 'background': '#000000', 'showInline': 'true'}, 'Dog': {'value': 'Dog', 'smart': 'true', 'background': '#000000', 'showInline': 'true'}}}} evaluate_predictions_automatically=False config_has_control_tags=True skip_queue='REQUEUE_FOR_OTHERS' pinned_at=None finished_task_number=None queue_total=0 queue_done=0 config_suitable_for_bulk_annotation=False\n"
     ]
    }
   ],
   "source": [
    "print(project)"
   ]
  },
  {
   "cell_type": "code",
   "execution_count": 9,
   "id": "aa9119a7-59a7-4cfc-8916-da75da470186",
   "metadata": {},
   "outputs": [],
   "source": [
    "# Import sample images\n",
    "if RECREATE_PROJECT:\n",
    "    ls.projects.import_tasks(\n",
    "        project.id,\n",
    "        request=[{'image': f'https://data.heartex.net/open-images/train_0/mini/0045dd96bf73936c.jpg'},\n",
    "                {'image': f'https://data.heartex.net/open-images/train_0/mini/0083d02f6ad18b38.jpg'}]\n",
    "    )"
   ]
  },
  {
   "cell_type": "code",
   "execution_count": 10,
   "id": "194e52f9",
   "metadata": {},
   "outputs": [],
   "source": [
    "# Create a ML Backend\n",
    "sam_model = get_or_create_model(ls,\n",
    "    title='SAM',\n",
    "    description='A SAM model not needing GPU',\n",
    "    url=LABEL_STUDIO_ML_BACKEND_URL,\n",
    "    project_id=project.id,\n",
    "    is_interactive=True\n",
    ")"
   ]
  },
  {
   "cell_type": "code",
   "execution_count": 11,
   "id": "910df3c2",
   "metadata": {},
   "outputs": [
    {
     "name": "stdout",
     "output_type": "stream",
     "text": [
      "id=4 predictions=[] annotations=[] drafts=[] annotators=[] inner_id=1 cancelled_annotations=0 total_annotations=0 total_predictions=0 completed_at=None file_upload=None storage_filename=None avg_lead_time=None draft_exists=False updated_by=[] data={'image': 'https://data.heartex.net/open-images/train_0/mini/0045dd96bf73936c.jpg'} meta={} created_at=datetime.datetime(2025, 3, 20, 18, 39, 13, 606250, tzinfo=TzInfo(UTC)) updated_at=datetime.datetime(2025, 3, 20, 18, 39, 13, 606270, tzinfo=TzInfo(UTC)) is_labeled=False overlap=1.0 comment_count=0 unresolved_comment_count=0 last_comment_updated_at=None project=55 comment_authors=[] annotations_results='' predictions_results='' predictions_score=None annotations_ids='' predictions_model_versions=''\n",
      "id=5 predictions=[] annotations=[] drafts=[] annotators=[] inner_id=2 cancelled_annotations=0 total_annotations=0 total_predictions=0 completed_at=None file_upload=None storage_filename=None avg_lead_time=None draft_exists=False updated_by=[] data={'image': 'https://data.heartex.net/open-images/train_0/mini/0083d02f6ad18b38.jpg'} meta={} created_at=datetime.datetime(2025, 3, 20, 18, 39, 13, 606304, tzinfo=TzInfo(UTC)) updated_at=datetime.datetime(2025, 3, 20, 18, 39, 13, 606310, tzinfo=TzInfo(UTC)) is_labeled=False overlap=1.0 comment_count=0 unresolved_comment_count=0 last_comment_updated_at=None project=55 comment_authors=[] annotations_results='' predictions_results='' predictions_score=None annotations_ids='' predictions_model_versions=''\n"
     ]
    }
   ],
   "source": [
    "# Retrieve predictions\n",
    "for task in ls.tasks.list(project=project.id):\n",
    "    print(task)\n",
    "    ls.ml.predict_interactive(id=sam_model.id, task=task.id)"
   ]
  }
 ],
 "metadata": {
  "kernelspec": {
   "display_name": "Python 3",
   "language": "python",
   "name": "python3"
  },
  "language_info": {
   "codemirror_mode": {
    "name": "ipython",
    "version": 3
   },
   "file_extension": ".py",
   "mimetype": "text/x-python",
   "name": "python",
   "nbconvert_exporter": "python",
   "pygments_lexer": "ipython3",
   "version": "3.12.7"
  }
 },
 "nbformat": 4,
 "nbformat_minor": 5
}
